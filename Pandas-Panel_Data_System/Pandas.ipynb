{
 "cells": [
  {
   "cell_type": "code",
   "execution_count": 33,
   "metadata": {},
   "outputs": [],
   "source": [
    "#importing pandas libraries\n",
    "import pandas as pd\n",
    "import numpy  as np\n",
    "%config IPCompleter.greedy=True\n",
    "\n",
    "#ref https://pandas.pydata.org/pandas-docs/stable/pandas.pdf"
   ]
  },
  {
   "cell_type": "code",
   "execution_count": 3,
   "metadata": {},
   "outputs": [
    {
     "name": "stdout",
     "output_type": "stream",
     "text": [
      "The index are DatetimeIndex(['2013-01-02', '2013-01-03', '2013-01-04', '2013-01-05',\n",
      "               '2013-01-06', '2013-01-07'],\n",
      "              dtype='datetime64[ns]', freq='D') and the value are [1 2 3 4 5 6] \n"
     ]
    }
   ],
   "source": [
    "#creating a series with index as Date\n",
    "s1 = pd.Series([1, 2, 3, 4, 5, 6], index=pd.date_range('20130102',periods=6))\n",
    "print(\"The index are {} and the value are {} \".format(s1.index,s1.values))"
   ]
  },
  {
   "cell_type": "code",
   "execution_count": 5,
   "metadata": {},
   "outputs": [
    {
     "data": {
      "text/plain": [
       "India    100\n",
       "Japan    200\n",
       "Dubai    300\n",
       "dtype: int64"
      ]
     },
     "execution_count": 5,
     "metadata": {},
     "output_type": "execute_result"
    }
   ],
   "source": [
    "#converting a dictionary to a pandas Series\n",
    "dict1={\"India\":100,\"Japan\":200,\"Dubai\":300}\n",
    "s2=pd.Series(dict1)\n",
    "s2"
   ]
  },
  {
   "cell_type": "code",
   "execution_count": 6,
   "metadata": {},
   "outputs": [
    {
     "data": {
      "text/html": [
       "<div>\n",
       "<style scoped>\n",
       "    .dataframe tbody tr th:only-of-type {\n",
       "        vertical-align: middle;\n",
       "    }\n",
       "\n",
       "    .dataframe tbody tr th {\n",
       "        vertical-align: top;\n",
       "    }\n",
       "\n",
       "    .dataframe thead th {\n",
       "        text-align: right;\n",
       "    }\n",
       "</style>\n",
       "<table border=\"1\" class=\"dataframe\">\n",
       "  <thead>\n",
       "    <tr style=\"text-align: right;\">\n",
       "      <th></th>\n",
       "      <th>One</th>\n",
       "      <th>Two</th>\n",
       "    </tr>\n",
       "  </thead>\n",
       "  <tbody>\n",
       "    <tr>\n",
       "      <th>a</th>\n",
       "      <td>1.0</td>\n",
       "      <td>1</td>\n",
       "    </tr>\n",
       "    <tr>\n",
       "      <th>b</th>\n",
       "      <td>2.0</td>\n",
       "      <td>2</td>\n",
       "    </tr>\n",
       "    <tr>\n",
       "      <th>c</th>\n",
       "      <td>3.0</td>\n",
       "      <td>3</td>\n",
       "    </tr>\n",
       "    <tr>\n",
       "      <th>d</th>\n",
       "      <td>NaN</td>\n",
       "      <td>4</td>\n",
       "    </tr>\n",
       "  </tbody>\n",
       "</table>\n",
       "</div>"
      ],
      "text/plain": [
       "   One  Two\n",
       "a  1.0    1\n",
       "b  2.0    2\n",
       "c  3.0    3\n",
       "d  NaN    4"
      ]
     },
     "execution_count": 6,
     "metadata": {},
     "output_type": "execute_result"
    }
   ],
   "source": [
    "#converting dictionary into DataFrame\n",
    "dict2={\"One\":pd.Series([1,2,3], index=[\"a\",\"b\",\"c\"]),\n",
    "          \"Two\":pd.Series([1,2,3,4], index=[\"a\",\"b\",\"c\",\"d\"])}\n",
    "s3=pd.DataFrame(dict2)\n",
    "s3"
   ]
  },
  {
   "cell_type": "code",
   "execution_count": 7,
   "metadata": {},
   "outputs": [
    {
     "data": {
      "text/html": [
       "<div>\n",
       "<style scoped>\n",
       "    .dataframe tbody tr th:only-of-type {\n",
       "        vertical-align: middle;\n",
       "    }\n",
       "\n",
       "    .dataframe tbody tr th {\n",
       "        vertical-align: top;\n",
       "    }\n",
       "\n",
       "    .dataframe thead th {\n",
       "        text-align: right;\n",
       "    }\n",
       "</style>\n",
       "<table border=\"1\" class=\"dataframe\">\n",
       "  <thead>\n",
       "    <tr style=\"text-align: right;\">\n",
       "      <th></th>\n",
       "      <th>One</th>\n",
       "      <th>Two</th>\n",
       "      <th>Three</th>\n",
       "    </tr>\n",
       "  </thead>\n",
       "  <tbody>\n",
       "    <tr>\n",
       "      <th>a</th>\n",
       "      <td>1.0</td>\n",
       "      <td>1</td>\n",
       "      <td>10.0</td>\n",
       "    </tr>\n",
       "    <tr>\n",
       "      <th>b</th>\n",
       "      <td>2.0</td>\n",
       "      <td>2</td>\n",
       "      <td>20.0</td>\n",
       "    </tr>\n",
       "    <tr>\n",
       "      <th>c</th>\n",
       "      <td>3.0</td>\n",
       "      <td>3</td>\n",
       "      <td>30.0</td>\n",
       "    </tr>\n",
       "    <tr>\n",
       "      <th>d</th>\n",
       "      <td>NaN</td>\n",
       "      <td>4</td>\n",
       "      <td>NaN</td>\n",
       "    </tr>\n",
       "  </tbody>\n",
       "</table>\n",
       "</div>"
      ],
      "text/plain": [
       "   One  Two  Three\n",
       "a  1.0    1   10.0\n",
       "b  2.0    2   20.0\n",
       "c  3.0    3   30.0\n",
       "d  NaN    4    NaN"
      ]
     },
     "execution_count": 7,
     "metadata": {},
     "output_type": "execute_result"
    }
   ],
   "source": [
    "#adding a column in DataFrame\n",
    "s3[\"Three\"]=pd.Series([10,20,30], index=[\"a\",\"b\",\"c\"])\n",
    "s3"
   ]
  },
  {
   "cell_type": "code",
   "execution_count": 8,
   "metadata": {},
   "outputs": [
    {
     "data": {
      "text/html": [
       "<div>\n",
       "<style scoped>\n",
       "    .dataframe tbody tr th:only-of-type {\n",
       "        vertical-align: middle;\n",
       "    }\n",
       "\n",
       "    .dataframe tbody tr th {\n",
       "        vertical-align: top;\n",
       "    }\n",
       "\n",
       "    .dataframe thead th {\n",
       "        text-align: right;\n",
       "    }\n",
       "</style>\n",
       "<table border=\"1\" class=\"dataframe\">\n",
       "  <thead>\n",
       "    <tr style=\"text-align: right;\">\n",
       "      <th></th>\n",
       "      <th>PID</th>\n",
       "      <th>ST_NUM</th>\n",
       "      <th>ST_NAME</th>\n",
       "      <th>OWN_OCCUPIED</th>\n",
       "      <th>NUM_BEDROOMS</th>\n",
       "      <th>NUM_BATH</th>\n",
       "      <th>SQ_FT</th>\n",
       "    </tr>\n",
       "  </thead>\n",
       "  <tbody>\n",
       "    <tr>\n",
       "      <th>0</th>\n",
       "      <td>100001000.0</td>\n",
       "      <td>104.0</td>\n",
       "      <td>PUTNAM</td>\n",
       "      <td>Y</td>\n",
       "      <td>3.0</td>\n",
       "      <td>1.0</td>\n",
       "      <td>1000.0</td>\n",
       "    </tr>\n",
       "    <tr>\n",
       "      <th>1</th>\n",
       "      <td>100002000.0</td>\n",
       "      <td>197.0</td>\n",
       "      <td>LEXINGTON</td>\n",
       "      <td>N</td>\n",
       "      <td>3.0</td>\n",
       "      <td>1.5</td>\n",
       "      <td>NaN</td>\n",
       "    </tr>\n",
       "    <tr>\n",
       "      <th>2</th>\n",
       "      <td>100003000.0</td>\n",
       "      <td>NaN</td>\n",
       "      <td>LEXINGTON</td>\n",
       "      <td>N</td>\n",
       "      <td>NaN</td>\n",
       "      <td>1.0</td>\n",
       "      <td>850.0</td>\n",
       "    </tr>\n",
       "    <tr>\n",
       "      <th>3</th>\n",
       "      <td>100004000.0</td>\n",
       "      <td>201.0</td>\n",
       "      <td>BERKELEY</td>\n",
       "      <td>NaN</td>\n",
       "      <td>1.0</td>\n",
       "      <td>NaN</td>\n",
       "      <td>700.0</td>\n",
       "    </tr>\n",
       "    <tr>\n",
       "      <th>4</th>\n",
       "      <td>NaN</td>\n",
       "      <td>203.0</td>\n",
       "      <td>BERKELEY</td>\n",
       "      <td>Y</td>\n",
       "      <td>3.0</td>\n",
       "      <td>2.0</td>\n",
       "      <td>1600.0</td>\n",
       "    </tr>\n",
       "    <tr>\n",
       "      <th>5</th>\n",
       "      <td>100006000.0</td>\n",
       "      <td>207.0</td>\n",
       "      <td>BERKELEY</td>\n",
       "      <td>Y</td>\n",
       "      <td>NaN</td>\n",
       "      <td>1.0</td>\n",
       "      <td>800.0</td>\n",
       "    </tr>\n",
       "    <tr>\n",
       "      <th>6</th>\n",
       "      <td>100007000.0</td>\n",
       "      <td>NaN</td>\n",
       "      <td>WASHINGTON</td>\n",
       "      <td>NaN</td>\n",
       "      <td>2.0</td>\n",
       "      <td>NaN</td>\n",
       "      <td>950.0</td>\n",
       "    </tr>\n",
       "    <tr>\n",
       "      <th>7</th>\n",
       "      <td>100008000.0</td>\n",
       "      <td>213.0</td>\n",
       "      <td>TREMONT</td>\n",
       "      <td>Y</td>\n",
       "      <td>1.0</td>\n",
       "      <td>1.0</td>\n",
       "      <td>NaN</td>\n",
       "    </tr>\n",
       "    <tr>\n",
       "      <th>8</th>\n",
       "      <td>100009000.0</td>\n",
       "      <td>215.0</td>\n",
       "      <td>TREMONT</td>\n",
       "      <td>Y</td>\n",
       "      <td>NaN</td>\n",
       "      <td>2.0</td>\n",
       "      <td>1800.0</td>\n",
       "    </tr>\n",
       "  </tbody>\n",
       "</table>\n",
       "</div>"
      ],
      "text/plain": [
       "           PID  ST_NUM     ST_NAME OWN_OCCUPIED  NUM_BEDROOMS  NUM_BATH  \\\n",
       "0  100001000.0   104.0      PUTNAM            Y           3.0       1.0   \n",
       "1  100002000.0   197.0   LEXINGTON            N           3.0       1.5   \n",
       "2  100003000.0     NaN   LEXINGTON            N           NaN       1.0   \n",
       "3  100004000.0   201.0    BERKELEY          NaN           1.0       NaN   \n",
       "4          NaN   203.0    BERKELEY            Y           3.0       2.0   \n",
       "5  100006000.0   207.0    BERKELEY            Y           NaN       1.0   \n",
       "6  100007000.0     NaN  WASHINGTON          NaN           2.0       NaN   \n",
       "7  100008000.0   213.0     TREMONT            Y           1.0       1.0   \n",
       "8  100009000.0   215.0     TREMONT            Y           NaN       2.0   \n",
       "\n",
       "    SQ_FT  \n",
       "0  1000.0  \n",
       "1     NaN  \n",
       "2   850.0  \n",
       "3   700.0  \n",
       "4  1600.0  \n",
       "5   800.0  \n",
       "6   950.0  \n",
       "7     NaN  \n",
       "8  1800.0  "
      ]
     },
     "execution_count": 8,
     "metadata": {},
     "output_type": "execute_result"
    }
   ],
   "source": [
    "#importing csv files\n",
    "dataset1=pd.read_csv(\"property_data.csv\", sep=\",\", delimiter=None, header=\"infer\")\n",
    "dataset1"
   ]
  },
  {
   "cell_type": "code",
   "execution_count": 31,
   "metadata": {},
   "outputs": [
    {
     "name": "stdout",
     "output_type": "stream",
     "text": [
      "The Shape of the DataFrame is (9, 7) \n",
      "\n",
      "The description are: \n",
      " \n",
      "                PID      ST_NUM  NUM_BEDROOMS  NUM_BATH        SQ_FT\n",
      "count  8.000000e+00    7.000000      6.000000  7.000000     7.000000\n",
      "mean   1.000050e+08  191.428571      2.166667  1.357143  1100.000000\n",
      "std    2.927700e+03   39.080503      0.983192  0.475595   425.245027\n",
      "min    1.000010e+08  104.000000      1.000000  1.000000   700.000000\n",
      "25%    1.000028e+08  199.000000      1.250000  1.000000   825.000000\n",
      "50%    1.000050e+08  203.000000      2.500000  1.000000   950.000000\n",
      "75%    1.000072e+08  210.000000      3.000000  1.750000  1300.000000\n",
      "max    1.000090e+08  215.000000      3.000000  2.000000  1800.000000 \n"
     ]
    }
   ],
   "source": [
    "#displaying the shape and description of DataFrame\n",
    "print(\"The Shape of the DataFrame is {} \\n\\nThe description are: \\n \\n{} \".format(dataset1.shape, dataset1.describe()))\n"
   ]
  },
  {
   "cell_type": "code",
   "execution_count": 35,
   "metadata": {},
   "outputs": [
    {
     "data": {
      "text/plain": [
       "'{\"0\":{\"PID\":100001000.0,\"ST_NUM\":104.0,\"ST_NAME\":\"PUTNAM\",\"OWN_OCCUPIED\":\"Y\",\"NUM_BEDROOMS\":3.0,\"NUM_BATH\":1.0,\"SQ_FT\":1000.0},\"1\":{\"PID\":100002000.0,\"ST_NUM\":197.0,\"ST_NAME\":\"LEXINGTON\",\"OWN_OCCUPIED\":\"N\",\"NUM_BEDROOMS\":3.0,\"NUM_BATH\":1.5,\"SQ_FT\":null},\"2\":{\"PID\":100003000.0,\"ST_NUM\":null,\"ST_NAME\":\"LEXINGTON\",\"OWN_OCCUPIED\":\"N\",\"NUM_BEDROOMS\":null,\"NUM_BATH\":1.0,\"SQ_FT\":850.0},\"3\":{\"PID\":100004000.0,\"ST_NUM\":201.0,\"ST_NAME\":\"BERKELEY\",\"OWN_OCCUPIED\":null,\"NUM_BEDROOMS\":1.0,\"NUM_BATH\":null,\"SQ_FT\":700.0},\"4\":{\"PID\":null,\"ST_NUM\":203.0,\"ST_NAME\":\"BERKELEY\",\"OWN_OCCUPIED\":\"Y\",\"NUM_BEDROOMS\":3.0,\"NUM_BATH\":2.0,\"SQ_FT\":1600.0},\"5\":{\"PID\":100006000.0,\"ST_NUM\":207.0,\"ST_NAME\":\"BERKELEY\",\"OWN_OCCUPIED\":\"Y\",\"NUM_BEDROOMS\":null,\"NUM_BATH\":1.0,\"SQ_FT\":800.0},\"6\":{\"PID\":100007000.0,\"ST_NUM\":null,\"ST_NAME\":\"WASHINGTON\",\"OWN_OCCUPIED\":null,\"NUM_BEDROOMS\":2.0,\"NUM_BATH\":null,\"SQ_FT\":950.0},\"7\":{\"PID\":100008000.0,\"ST_NUM\":213.0,\"ST_NAME\":\"TREMONT\",\"OWN_OCCUPIED\":\"Y\",\"NUM_BEDROOMS\":1.0,\"NUM_BATH\":1.0,\"SQ_FT\":null},\"8\":{\"PID\":100009000.0,\"ST_NUM\":215.0,\"ST_NAME\":\"TREMONT\",\"OWN_OCCUPIED\":\"Y\",\"NUM_BEDROOMS\":null,\"NUM_BATH\":2.0,\"SQ_FT\":1800.0}}'"
      ]
     },
     "execution_count": 35,
     "metadata": {},
     "output_type": "execute_result"
    }
   ],
   "source": [
    "#converting DataFrame to json\n",
    "dataset1.to_json(orient='index')#orient=\"columns\",\"values\",\"split\""
   ]
  },
  {
   "cell_type": "code",
   "execution_count": null,
   "metadata": {},
   "outputs": [],
   "source": []
  }
 ],
 "metadata": {
  "kernelspec": {
   "display_name": "Python 3",
   "language": "python",
   "name": "python3"
  },
  "language_info": {
   "codemirror_mode": {
    "name": "ipython",
    "version": 3
   },
   "file_extension": ".py",
   "mimetype": "text/x-python",
   "name": "python",
   "nbconvert_exporter": "python",
   "pygments_lexer": "ipython3",
   "version": "3.7.7"
  }
 },
 "nbformat": 4,
 "nbformat_minor": 4
}
