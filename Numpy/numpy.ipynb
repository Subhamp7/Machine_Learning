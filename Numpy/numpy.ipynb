{
 "cells": [
  {
   "cell_type": "code",
   "execution_count": 1,
   "metadata": {},
   "outputs": [],
   "source": [
    "#importing numpy\n",
    "import numpy as np"
   ]
  },
  {
   "cell_type": "code",
   "execution_count": 9,
   "metadata": {},
   "outputs": [
    {
     "name": "stdout",
     "output_type": "stream",
     "text": [
      "The array is : [3 7 8 0 1 2 5]\n",
      "The data type of array is : <class 'numpy.ndarray'>\n",
      "The shape of array is : (7,)\n"
     ]
    }
   ],
   "source": [
    "#converting a list into array\n",
    "list_1=[3,7,8,0,1,2,5]\n",
    "array=np.array(list_1)\n",
    "print(\"The array is :\",array)\n",
    "print(\"The data type of array is :\",type(array))\n",
    "print(\"The shape of array is :\",array.shape)"
   ]
  },
  {
   "cell_type": "code",
   "execution_count": 20,
   "metadata": {},
   "outputs": [
    {
     "name": "stdout",
     "output_type": "stream",
     "text": [
      "The array is :\n",
      " [[2 6 9 3 5 0]\n",
      " [9 4 7 0 1 2]]\n",
      "\n",
      "The array after reshaping is :\n",
      " [[2 6 9 3]\n",
      " [5 0 9 4]\n",
      " [7 0 1 2]]\n"
     ]
    }
   ],
   "source": [
    "#merging many list into one array and reshaping\n",
    "List_1=[2,6,9,3,5,0]\n",
    "List_2=[9,4,7,0,1,2]\n",
    "array_2=np.array([List_1,List_2])\n",
    "print(\"The array is :\\n\",array_2)\n",
    "\n",
    "array_2=array_2.reshape(3,4)#should be of same size as the original array\n",
    "print(\"\\nThe array after reshaping is :\\n\",array_2)"
   ]
  },
  {
   "cell_type": "code",
   "execution_count": 29,
   "metadata": {},
   "outputs": [
    {
     "name": "stdout",
     "output_type": "stream",
     "text": [
      "The first row\n",
      " [2 6 9 3]\n",
      "\n",
      "First element if second row 5\n",
      "\n",
      "Selecting a shape of array\n",
      " [[6 9 3]\n",
      " [0 9 4]]\n"
     ]
    }
   ],
   "source": [
    "#indexing in array\n",
    "print(\"The first row\\n\",array_2[0])\n",
    "print(\"\\nFirst element if second row\",array_2[1][0])\n",
    "print(\"\\nSelecting a shape of array\\n\",array_2[0:2,1:])"
   ]
  },
  {
   "cell_type": "code",
   "execution_count": 41,
   "metadata": {},
   "outputs": [
    {
     "name": "stdout",
     "output_type": "stream",
     "text": [
      "The array is : [ 1  3  5  7  9 11 13]\n",
      "The array is :\n",
      " [ 2.          8.28571429 14.57142857 20.85714286 27.14285714 33.42857143\n",
      " 39.71428571 46.         52.28571429 58.57142857 64.85714286 71.14285714\n",
      " 77.42857143 83.71428571 90.        ]\n"
     ]
    }
   ],
   "source": [
    "#generating array\n",
    "array_3=np.arange(1,15,2)#start,stop,interval\n",
    "print(\"The array is :\",array_3)\n",
    "\n",
    "array_4=np.linspace(2,90,15)\n",
    "print(\"The array is :\\n\",array_4)"
   ]
  },
  {
   "cell_type": "code",
   "execution_count": 50,
   "metadata": {},
   "outputs": [
    {
     "name": "stdout",
     "output_type": "stream",
     "text": [
      "The updated array is : [1 2 3 4 5 5 5 5 5]\n"
     ]
    }
   ],
   "source": [
    "#brodcasting array\n",
    "array_5=np.arange(1,10)\n",
    "array_5[4:]=5\n",
    "print(\"The updated array is :\",array_5)"
   ]
  },
  {
   "cell_type": "code",
   "execution_count": 62,
   "metadata": {},
   "outputs": [
    {
     "name": "stdout",
     "output_type": "stream",
     "text": [
      "The array after adding 2 :\n",
      " [[52 57 62 67 72]\n",
      " [77 82 87 92 97]]\n",
      "\n",
      "Printing the array which is higher than 60 :\n",
      " [65 70 75 80 85 90 95]\n",
      "\n",
      "Applying conditional statement :\n",
      " [[False False False  True  True]\n",
      " [ True  True  True  True  True]]\n"
     ]
    }
   ],
   "source": [
    "#arithmetic operations\n",
    "array_6=np.arange(50,100,5).reshape(2,5)\n",
    "print(\"The array after adding 2 :\\n\",array_6+2)\n",
    "\n",
    "print(\"\\nPrinting the array which is higher than 60 :\\n\",array_6[array_6>60])\n",
    "\n",
    "print(\"\\nApplying conditional statement :\\n\",array_6>60)"
   ]
  },
  {
   "cell_type": "code",
   "execution_count": 69,
   "metadata": {},
   "outputs": [
    {
     "name": "stdout",
     "output_type": "stream",
     "text": [
      "The arrays with ones :\n",
      " [[1 1 1 1]\n",
      " [1 1 1 1]]\n"
     ]
    }
   ],
   "source": [
    "#generating array with ones and zeros\n",
    "array_7=np.ones((2,4),dtype=int)#zeros for zero\n",
    "print(\"The arrays with ones :\\n\",array_7)"
   ]
  },
  {
   "cell_type": "code",
   "execution_count": 75,
   "metadata": {},
   "outputs": [
    {
     "name": "stdout",
     "output_type": "stream",
     "text": [
      "The random values are :\n",
      " [[0.30941936 0.03168555 0.35647394]\n",
      " [0.98279865 0.73205057 0.45651029]]\n"
     ]
    }
   ],
   "source": [
    "#generating the array with random distribution\n",
    "array_8=np.random.rand(2,3)\n",
    "print(\"The random values are :\\n\",array_8)"
   ]
  },
  {
   "cell_type": "code",
   "execution_count": 78,
   "metadata": {},
   "outputs": [
    {
     "name": "stdout",
     "output_type": "stream",
     "text": [
      "The random values are :\n",
      " [[-0.37692463  0.23700811  0.73910839]\n",
      " [ 0.86992045  0.92688471 -1.23123494]]\n"
     ]
    },
    {
     "data": {
      "text/plain": [
       "<matplotlib.axes._subplots.AxesSubplot at 0x19374ae3748>"
      ]
     },
     "execution_count": 78,
     "metadata": {},
     "output_type": "execute_result"
    },
    {
     "data": {
      "image/png": "[encoded data removed]",
      "text/plain": [
       "<Figure size 432x288 with 1 Axes>"
      ]
     },
     "metadata": {
      "needs_background": "light"
     },
     "output_type": "display_data"
    }
   ],
   "source": [
    "#generating the array with standard random distribution\n",
    "array_8=np.random.randn(2,3)\n",
    "print(\"The random values are :\\n\",array_8)\n",
    "\n",
    "#visualizing the standard random distributed array\n",
    "import seaborn as sns\n",
    "sns.distplot(array_8)"
   ]
  },
  {
   "cell_type": "code",
   "execution_count": null,
   "metadata": {},
   "outputs": [],
   "source": []
  }
 ],
 "metadata": {
  "kernelspec": {
   "display_name": "Python 3",
   "language": "python",
   "name": "python3"
  },
  "language_info": {
   "codemirror_mode": {
    "name": "ipython",
    "version": 3
   },
   "file_extension": ".py",
   "mimetype": "text/x-python",
   "name": "python",
   "nbconvert_exporter": "python",
   "pygments_lexer": "ipython3",
   "version": "3.7.7"
  }
 },
 "nbformat": 4,
 "nbformat_minor": 4
}
